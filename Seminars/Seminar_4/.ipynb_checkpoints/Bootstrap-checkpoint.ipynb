{
 "cells": [
  {
   "cell_type": "code",
   "execution_count": 1,
   "metadata": {},
   "outputs": [],
   "source": [
    "%matplotlib inline\n",
    "import numpy as np\n",
    "import pandas as pd\n",
    "import matplotlib.pyplot as plt\n",
    "from joblib.parallel import Parallel, delayed"
   ]
  },
  {
   "cell_type": "code",
   "execution_count": 2,
   "metadata": {},
   "outputs": [],
   "source": [
    "def bootstrap(data, agg=np.mean, n_bootstraps=10000, seed=None, ci_width=0.95):\n",
    "    data = np.asarray(data)\n",
    "    rng = np.random.RandomState(seed)\n",
    "    n_samples = len(data)\n",
    "    all_aggs = []\n",
    "    for i in range(n_bootstraps):\n",
    "        idx = rng.random_integers(low=0, high=n_samples - 1, size=n_samples)\n",
    "        all_aggs.append(agg(data[idx]))\n",
    "    boostrapped = np.asarray(all_aggs)\n",
    "    boostrapped.sort()\n",
    "    \n",
    "    ci_min = (1 - ci_width) / 2.\n",
    "    ci_max = 1. - ci_min\n",
    "    ci = boostrapped[int(ci_min * n_bootstraps)], boostrapped[int(ci_max * n_bootstraps)]\n",
    "    return boostrapped, ci"
   ]
  },
  {
   "cell_type": "code",
   "execution_count": null,
   "metadata": {},
   "outputs": [],
   "source": [
    "bins = #сгенерируйте 30 значений в диапазоне от 0 до 1\n",
    "data = np.random.uniform(0, 1, size=10)\n",
    "#постройте график"
   ]
  },
  {
   "cell_type": "code",
   "execution_count": null,
   "metadata": {},
   "outputs": [],
   "source": [
    "#посчитайте среднее и среднеквадратичное отклонение"
   ]
  },
  {
   "cell_type": "code",
   "execution_count": null,
   "metadata": {},
   "outputs": [],
   "source": [
    "bootstrapped, ci = bootstrap(data, ci_width=0.99)\n",
    "#постройте график для bootstrapped"
   ]
  },
  {
   "cell_type": "code",
   "execution_count": 7,
   "metadata": {},
   "outputs": [],
   "source": [
    "def unbiased_std(x):\n",
    "    return np.std(x, ddof=1)"
   ]
  },
  {
   "cell_type": "code",
   "execution_count": null,
   "metadata": {},
   "outputs": [],
   "source": [
    "bootstrapped, ci = bootstrap(data, agg=unbiased_std, ci_width=0.99)\n",
    "#постройте график для bootstrapped\n",
    "plt.title(\"Bootstrap distribution for the std dev of a uniform variable\")\n",
    "ci"
   ]
  },
  {
   "cell_type": "markdown",
   "metadata": {},
   "source": [
    "## Оценка правильности бутстрапа CI для среднего значения"
   ]
  },
  {
   "cell_type": "code",
   "execution_count": 3,
   "metadata": {},
   "outputs": [
    {
     "name": "stdout",
     "output_type": "stream",
     "text": [
      "CPU times: user 31 ms, sys: 36.6 ms, total: 67.6 ms\n",
      "Wall time: 39.9 s\n"
     ]
    }
   ],
   "source": [
    "%%time\n",
    "\n",
    "target_ci_width = 0.95\n",
    "\n",
    "\n",
    "def compute_ci_correctness(n_samples, true_value, agg=np.mean, target_ci_width=0.95,\n",
    "                           n_runs = 100):\n",
    "    correctness = []\n",
    "    for i in range(n_runs):\n",
    "        data = np.random.uniform(0, 1, size=n_samples)\n",
    "        _, ci = bootstrap(data, agg=agg, ci_width=target_ci_width,\n",
    "                          n_bootstraps=5000)\n",
    "        correctness.append(float(ci[0] <= true_value <= ci[1]))\n",
    "        \n",
    "    # Look Ma': boostrap CI on the boostrap CI correctness\n",
    "    _, ci_outcomes = bootstrap(correctness, ci_width=0.99,\n",
    "                               n_bootstraps=10000)\n",
    "    return {\n",
    "        'n_samples': n_samples,\n",
    "        'correctness': np.mean(correctness),\n",
    "        'ci_0025_correct': ci_outcomes[0],\n",
    "        'ci_0975_correct': ci_outcomes[1],\n",
    "    }\n",
    "    \n",
    "\n",
    "all_outcomes = Parallel(n_jobs=-1)(delayed(compute_ci_correctness)(\n",
    "    n_samples, 0.5, agg=np.mean, target_ci_width=target_ci_width)\n",
    "    for n_samples in [3, 5, 10, 20, 30, 40, 50, 60, 70, 80, 90, 100])\n",
    "    \n",
    "all_outcomes = #преобразуйте all_outcomes в DataFrame"
   ]
  },
  {
   "cell_type": "code",
   "execution_count": null,
   "metadata": {},
   "outputs": [],
   "source": [
    "def plot_outcomes(all_outcomes, target_ci_width):\n",
    "    plt.fill_between(all_outcomes.n_samples.values,\n",
    "                     all_outcomes.ci_0025_correct.values,\n",
    "                     all_outcomes.ci_0975_correct.values,\n",
    "                     alpha=0.2, color='b')\n",
    "    plt.plot(all_outcomes.n_samples, all_outcomes.correctness, 'o-',\n",
    "             alpha=0.8, color='b')\n",
    "    \n",
    "    plt.hlines(target_ci_width,\n",
    "               all_outcomes.n_samples.min(), all_outcomes.n_samples.max(),\n",
    "               linestyles='dotted')\n",
    "    plt.ylim(0.5, 1)\n",
    "    plt.title(\"Correctness of the bootstrap CI interval\")\n",
    "    plt.xlabel(\"Number of source samples\")\n",
    "    plt.ylabel(\"Rate of true value belonging to the CI interval\")\n",
    "    \n",
    "plot_outcomes(all_outcomes, target_ci_width)\n",
    "all_outcomes"
   ]
  },
  {
   "cell_type": "markdown",
   "metadata": {},
   "source": [
    "## Оценка правильности бутстрапа CI для std-отклонения однородной переменной"
   ]
  },
  {
   "cell_type": "code",
   "execution_count": 19,
   "metadata": {},
   "outputs": [],
   "source": [
    "all_outcomes = Parallel(n_jobs=-1)(delayed(compute_ci_correctness)(\n",
    "    n_samples, 1 / np.sqrt(12), target_ci_width=target_ci_width, agg=unbiased_std)\n",
    "    for n_samples in [3, 5, 10, 20, 30, 40, 50, 60, 70, 80, 90, 100])\n",
    "    \n",
    "all_outcomes = #преобразуйте all_outcomes в DataFrame"
   ]
  },
  {
   "cell_type": "code",
   "execution_count": null,
   "metadata": {},
   "outputs": [],
   "source": [
    "plot_outcomes(all_outcomes, target_ci_width)\n",
    "all_outcomes"
   ]
  }
 ],
 "metadata": {
  "kernelspec": {
   "display_name": "Python 3",
   "language": "python",
   "name": "python3"
  },
  "language_info": {
   "codemirror_mode": {
    "name": "ipython",
    "version": 3
   },
   "file_extension": ".py",
   "mimetype": "text/x-python",
   "name": "python",
   "nbconvert_exporter": "python",
   "pygments_lexer": "ipython3",
   "version": "3.6.6"
  }
 },
 "nbformat": 4,
 "nbformat_minor": 1
}
